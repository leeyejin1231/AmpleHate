{
 "cells": [
  {
   "cell_type": "code",
   "execution_count": 1,
   "metadata": {},
   "outputs": [
    {
     "name": "stderr",
     "output_type": "stream",
     "text": [
      "/home/yejin/anaconda3/envs/impcon/lib/python3.8/site-packages/tqdm/auto.py:21: TqdmWarning: IProgress not found. Please update jupyter and ipywidgets. See https://ipywidgets.readthedocs.io/en/stable/user_install.html\n",
      "  from .autonotebook import tqdm as notebook_tqdm\n"
     ]
    }
   ],
   "source": [
    "import torch.optim as optim\n",
    "import numpy as np\n",
    "import torch\n",
    "import torch.nn as nn\n",
    "import torch.optim as optim\n",
    "import random\n",
    "from transformers import BertTokenizer\n",
    "from utils import NERTagger, get_dataloader\n",
    "from model import CustomBERT, ContrastiveLossCosine\n",
    "\n",
    "device = torch.device('cuda')\n",
    "\n",
    "\n",
    "def set_seed(seed=42):\n",
    "    \"\"\"\n",
    "    랜덤 시드 고정\n",
    "    \"\"\"\n",
    "    random.seed(seed)\n",
    "    np.random.seed(seed)\n",
    "    torch.manual_seed(seed)\n",
    "    torch.cuda.manual_seed_all(seed)  # GPU 사용 시에도 시드 고정\n",
    "\n",
    "    # CUDNN 설정 (연산 속도 vs 재현성 선택)\n",
    "    torch.backends.cudnn.deterministic = True\n",
    "    torch.backends.cudnn.benchmark = False"
   ]
  },
  {
   "cell_type": "code",
   "execution_count": 2,
   "metadata": {},
   "outputs": [
    {
     "name": "stderr",
     "output_type": "stream",
     "text": [
      "Some weights of the model checkpoint at dbmdz/bert-large-cased-finetuned-conll03-english were not used when initializing BertForTokenClassification: ['bert.pooler.dense.bias', 'bert.pooler.dense.weight']\n",
      "- This IS expected if you are initializing BertForTokenClassification from the checkpoint of a model trained on another task or with another architecture (e.g. initializing a BertForSequenceClassification model from a BertForPreTraining model).\n",
      "- This IS NOT expected if you are initializing BertForTokenClassification from the checkpoint of a model that you expect to be exactly identical (initializing a BertForSequenceClassification model from a BertForSequenceClassification model).\n"
     ]
    },
    {
     "name": "stdout",
     "output_type": "stream",
     "text": [
      "---Start dataload---\n",
      "---End dataload---\n"
     ]
    }
   ],
   "source": [
    "set_seed(0)\n",
    "\n",
    "tokenizer = BertTokenizer.from_pretrained(\"bert-base-uncased\")\n",
    "ner_tagger = NERTagger()\n",
    "MODEL_SAVE_PATH = f\"./save/toxigen/best_model.pth\"\n",
    "criterion = {\"lambda_loss\":0.5, \"cross-entropy\": nn.CrossEntropyLoss(), \"contrastive-learning\":ContrastiveLossCosine()}\n",
    "\n",
    "train_loader = get_dataloader(f\"./data/toxigen/train.csv\", tokenizer, ner_tagger=ner_tagger, use_ner=True,  batch_size=16)\n",
    "# valid_loader = get_dataloader(f\"./data/toxigen/valid.csv\", tokenizer, ner_tagger=None, use_ner=False, batch_size=16)\n",
    "\n",
    "model = CustomBERT(\"bert-base-uncased\", hidden_dim=768).to(device)\n",
    "optimizer = optim.AdamW(model.parameters(), lr=2e-5)\n",
    "\n",
    "num_epochs = 6\n",
    "\n",
    "dataloader = train_loader\n",
    "loss_type = \"cross-entropy\""
   ]
  },
  {
   "cell_type": "code",
   "execution_count": 3,
   "metadata": {},
   "outputs": [
    {
     "name": "stderr",
     "output_type": "stream",
     "text": [
      "You seem to be using the pipelines sequentially on GPU. In order to maximize efficiency please use a dataset\n"
     ]
    }
   ],
   "source": [
    "batch = next(iter(dataloader))"
   ]
  },
  {
   "cell_type": "code",
   "execution_count": 4,
   "metadata": {},
   "outputs": [
    {
     "name": "stdout",
     "output_type": "stream",
     "text": [
      "---Start train!---\n"
     ]
    }
   ],
   "source": [
    "print(\"---Start train!---\")\n",
    "model.train()\n",
    "total_loss = 0\n",
    "\n",
    "input_ids = batch[\"input_ids\"].to(device)\n",
    "head_token_idx = batch[\"head_token_idx\"].to(device)\n",
    "labels = batch[\"labels\"].to(device)\n",
    "\n",
    "optimizer.zero_grad()"
   ]
  },
  {
   "cell_type": "code",
   "execution_count": 5,
   "metadata": {},
   "outputs": [],
   "source": [
    "import torch.nn.functional as F\n",
    "\n",
    "class HeadAttention(nn.Module):\n",
    "    def __init__(self, hidden_dim, head_dim):\n",
    "        super(HeadAttention, self).__init__()\n",
    "        self.hidden_dim = hidden_dim\n",
    "        self.head_dim = head_dim\n",
    "\n",
    "        self.W_q = nn.Linear(hidden_dim, head_dim, bias=False)\n",
    "        self.W_k = nn.Linear(hidden_dim, head_dim, bias=False)\n",
    "        self.W_v = nn.Linear(hidden_dim, head_dim, bias=False)\n",
    "\n",
    "    def forward(self, cls_embedding, head_token_embedding):\n",
    "        Q_h = self.W_q(cls_embedding)   # [CLS]의 Query\n",
    "        K_h = self.W_k(head_token_embedding)  # 특정 토큰의 Key\n",
    "        V_h = self.W_v(head_token_embedding)  # 특정 토큰의 Value\n",
    "\n",
    "        attention_scores = torch.matmul(Q_h, K_h.T) / (self.head_dim ** 0.5)\n",
    "        attention_weights = F.softmax(attention_scores, dim=-1)\n",
    "\n",
    "        output = torch.matmul(attention_weights, V_h)\n",
    "        return output"
   ]
  },
  {
   "cell_type": "code",
   "execution_count": 6,
   "metadata": {},
   "outputs": [],
   "source": [
    "from transformers import BertModel\n",
    "\n",
    "bert = BertModel.from_pretrained(\"bert-base-uncased\", output_attentions=True).to(device)\n",
    "head_attention = HeadAttention(768, 768).to(device)\n",
    "classifier = nn.Linear(768, 2).to(device)"
   ]
  },
  {
   "cell_type": "code",
   "execution_count": 7,
   "metadata": {},
   "outputs": [
    {
     "name": "stderr",
     "output_type": "stream",
     "text": [
      "We strongly recommend passing in an `attention_mask` since your input_ids may be padded. See https://huggingface.co/docs/transformers/troubleshooting#incorrect-output-when-padding-tokens-arent-masked.\n",
      "BertSdpaSelfAttention is used but `torch.nn.functional.scaled_dot_product_attention` does not support non-absolute `position_embedding_type` or `output_attentions=True` or `head_mask`. Falling back to the manual attention implementation, but specifying the manual implementation will be required from Transformers version v5.0.0 onwards. This warning can be removed using the argument `attn_implementation=\"eager\"` when loading the model.\n"
     ]
    },
    {
     "data": {
      "text/plain": [
       "tensor([[-0.2144,  0.6464, -0.0300,  ..., -0.6731,  0.3182, -1.0252],\n",
       "        [-0.3088,  0.6115,  0.1277,  ..., -0.6242,  0.5552, -0.7398],\n",
       "        [-0.3368,  0.5849,  0.5805,  ..., -0.4178,  0.4864, -0.4485],\n",
       "        ...,\n",
       "        [-0.3106,  0.5797,  0.1688,  ..., -0.6051,  0.5062, -0.7638],\n",
       "        [-0.3192,  0.4904,  0.0245,  ..., -0.4990,  0.4545, -0.8290],\n",
       "        [-0.3000,  0.5989,  0.2211,  ..., -0.5376,  0.5293, -0.7566]],\n",
       "       device='cuda:0', grad_fn=<SliceBackward0>)"
      ]
     },
     "execution_count": 7,
     "metadata": {},
     "output_type": "execute_result"
    }
   ],
   "source": [
    "outputs = bert(input_ids)\n",
    "cls_embedding = outputs.last_hidden_state[:, 0, :]\n",
    "cls_embedding"
   ]
  },
  {
   "cell_type": "code",
   "execution_count": 8,
   "metadata": {},
   "outputs": [],
   "source": [
    "batch_size = input_ids.shape[0]"
   ]
  },
  {
   "cell_type": "code",
   "execution_count": null,
   "metadata": {},
   "outputs": [],
   "source": [
    "# head_token_idx = torch.tensor([[1], [1], [0], [0], [0], [3], [0], [0], [6], [0], [0], [0], [0], [0], [0], [1]])"
   ]
  },
  {
   "cell_type": "code",
   "execution_count": 9,
   "metadata": {},
   "outputs": [
    {
     "data": {
      "text/plain": [
       "tensor([0, 0, 0, 0, 0, 0, 0, 0, 0, 0, 0, 0, 0, 0, 0, 0], device='cuda:0')"
      ]
     },
     "execution_count": 9,
     "metadata": {},
     "output_type": "execute_result"
    }
   ],
   "source": [
    "head_token_idx.to(device)"
   ]
  },
  {
   "cell_type": "code",
   "execution_count": 10,
   "metadata": {},
   "outputs": [
    {
     "name": "stdout",
     "output_type": "stream",
     "text": [
      "tensor([0, 0, 0, 0, 0, 0, 0, 0, 0, 0, 0, 0, 0, 0, 0, 0], device='cuda:0',\n",
      "       dtype=torch.int32)\n"
     ]
    }
   ],
   "source": [
    "binary_tensor = (head_token_idx != 0).int()  # True -> 1, False -> 0\n",
    "\n",
    "print(binary_tensor)"
   ]
  },
  {
   "cell_type": "code",
   "execution_count": 11,
   "metadata": {},
   "outputs": [
    {
     "data": {
      "text/plain": [
       "tensor([[-0.2144,  0.6464, -0.0300,  ..., -0.6731,  0.3182, -1.0252],\n",
       "        [-0.3088,  0.6115,  0.1277,  ..., -0.6242,  0.5552, -0.7398],\n",
       "        [-0.3368,  0.5849,  0.5805,  ..., -0.4178,  0.4864, -0.4485],\n",
       "        ...,\n",
       "        [-0.3106,  0.5797,  0.1688,  ..., -0.6051,  0.5062, -0.7638],\n",
       "        [-0.3192,  0.4904,  0.0245,  ..., -0.4990,  0.4545, -0.8290],\n",
       "        [-0.3000,  0.5989,  0.2211,  ..., -0.5376,  0.5293, -0.7566]],\n",
       "       device='cuda:0', grad_fn=<SliceBackward0>)"
      ]
     },
     "execution_count": 11,
     "metadata": {},
     "output_type": "execute_result"
    }
   ],
   "source": [
    "cls_embedding"
   ]
  },
  {
   "cell_type": "code",
   "execution_count": 20,
   "metadata": {},
   "outputs": [
    {
     "data": {
      "text/plain": [
       "torch.Size([16, 768])"
      ]
     },
     "execution_count": 20,
     "metadata": {},
     "output_type": "execute_result"
    }
   ],
   "source": [
    "cls_embedding.size()"
   ]
  },
  {
   "cell_type": "code",
   "execution_count": 12,
   "metadata": {},
   "outputs": [
    {
     "data": {
      "text/plain": [
       "tensor([[-0.2144,  0.6464, -0.0300,  ..., -0.6731,  0.3182, -1.0252],\n",
       "        [-0.3088,  0.6115,  0.1277,  ..., -0.6242,  0.5552, -0.7398],\n",
       "        [-0.3368,  0.5849,  0.5805,  ..., -0.4178,  0.4864, -0.4485],\n",
       "        ...,\n",
       "        [-0.3106,  0.5797,  0.1688,  ..., -0.6051,  0.5062, -0.7638],\n",
       "        [-0.3192,  0.4904,  0.0245,  ..., -0.4990,  0.4545, -0.8290],\n",
       "        [-0.3000,  0.5989,  0.2211,  ..., -0.5376,  0.5293, -0.7566]],\n",
       "       device='cuda:0', grad_fn=<MeanBackward1>)"
      ]
     },
     "execution_count": 12,
     "metadata": {},
     "output_type": "execute_result"
    }
   ],
   "source": [
    "head_token_embeddings = outputs.last_hidden_state[torch.arange(batch_size).unsqueeze(1), head_token_idx]  \n",
    "head_token_embeddings = head_token_embeddings.mean(dim=1) \n",
    "head_token_embeddings"
   ]
  },
  {
   "cell_type": "code",
   "execution_count": 18,
   "metadata": {},
   "outputs": [
    {
     "data": {
      "text/plain": [
       "torch.Size([16, 768])"
      ]
     },
     "execution_count": 18,
     "metadata": {},
     "output_type": "execute_result"
    }
   ],
   "source": [
    "head_token_embeddings.size()"
   ]
  },
  {
   "cell_type": "code",
   "execution_count": 13,
   "metadata": {},
   "outputs": [
    {
     "data": {
      "text/plain": [
       "tensor([[ 0.1664,  0.1229, -0.1659,  ..., -0.1194,  0.7561, -0.0572],\n",
       "        [ 0.1666,  0.1229, -0.1659,  ..., -0.1193,  0.7562, -0.0572],\n",
       "        [ 0.1667,  0.1229, -0.1659,  ..., -0.1193,  0.7564, -0.0572],\n",
       "        ...,\n",
       "        [ 0.1666,  0.1229, -0.1659,  ..., -0.1193,  0.7562, -0.0572],\n",
       "        [ 0.1665,  0.1229, -0.1659,  ..., -0.1193,  0.7562, -0.0573],\n",
       "        [ 0.1666,  0.1229, -0.1659,  ..., -0.1193,  0.7562, -0.0572]],\n",
       "       device='cuda:0', grad_fn=<MmBackward0>)"
      ]
     },
     "execution_count": 13,
     "metadata": {},
     "output_type": "execute_result"
    }
   ],
   "source": [
    "head_attention_output = head_attention(cls_embedding, head_token_embeddings)\n",
    "head_attention_output\n"
   ]
  },
  {
   "cell_type": "code",
   "execution_count": 17,
   "metadata": {},
   "outputs": [
    {
     "data": {
      "text/plain": [
       "torch.Size([16, 768])"
      ]
     },
     "execution_count": 17,
     "metadata": {},
     "output_type": "execute_result"
    }
   ],
   "source": [
    "head_attention_output.size()"
   ]
  },
  {
   "cell_type": "code",
   "execution_count": 33,
   "metadata": {},
   "outputs": [
    {
     "data": {
      "text/plain": [
       "torch.Size([16, 512, 512])"
      ]
     },
     "execution_count": 33,
     "metadata": {},
     "output_type": "execute_result"
    }
   ],
   "source": [
    "outputs.attentions[0][:, 0, :, :].size()"
   ]
  },
  {
   "cell_type": "code",
   "execution_count": null,
   "metadata": {},
   "outputs": [],
   "source": [
    "head_attention_output = head_attention_output * binary_tensor.to(device)"
   ]
  },
  {
   "cell_type": "code",
   "execution_count": null,
   "metadata": {},
   "outputs": [],
   "source": [
    "head_attention_output"
   ]
  },
  {
   "cell_type": "code",
   "execution_count": null,
   "metadata": {},
   "outputs": [],
   "source": [
    "final_embedding = cls_embedding + head_attention_output\n",
    "final_embedding"
   ]
  }
 ],
 "metadata": {
  "kernelspec": {
   "display_name": "impcon",
   "language": "python",
   "name": "python3"
  },
  "language_info": {
   "codemirror_mode": {
    "name": "ipython",
    "version": 3
   },
   "file_extension": ".py",
   "mimetype": "text/x-python",
   "name": "python",
   "nbconvert_exporter": "python",
   "pygments_lexer": "ipython3",
   "version": "3.8.20"
  }
 },
 "nbformat": 4,
 "nbformat_minor": 2
}
